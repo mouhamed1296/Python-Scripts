{
 "cells": [
  {
   "cell_type": "code",
   "execution_count": 40,
   "metadata": {},
   "outputs": [
    {
     "name": "stdout",
     "output_type": "stream",
     "text": [
      "[[1 2 3]\n",
      " [4 5 6]]\n",
      "[1 2 3]\n",
      "<class 'numpy.ndarray'>\n",
      "[ True False False]\n",
      "[False  True False]\n",
      "[False False  True]\n",
      "(3,)\n",
      "(2, 3)\n",
      "(3,)\n",
      "[1 2 3]\n"
     ]
    }
   ],
   "source": [
    "import numpy as np\n",
    "\n",
    "liste = [1, 2, 3]\n",
    "liste_2 = [[1, 2, 3], [4, 5, 6]]\n",
    "tableau_2 = np.array(liste_2)\n",
    "print(tableau_2)\n",
    "\n",
    "tableau = np.array(liste)\n",
    "print(tableau)\n",
    "print(type(tableau))\n",
    "\n",
    "print(tableau == 1)\n",
    "print(tableau == 2)\n",
    "print(tableau == 3)\n",
    "\n",
    "nuplet = (1, 2, 3)\n",
    "\n",
    "tableau_3 = np.array(nuplet)\n",
    "print(tableau.shape)\n",
    "print(tableau_2.shape)\n",
    "print(tableau_3.shape)\n",
    "print(tableau_3)"
   ]
  },
  {
   "cell_type": "code",
   "execution_count": null,
   "metadata": {},
   "outputs": [],
   "source": []
  }
 ],
 "metadata": {
  "kernelspec": {
   "display_name": "Python 3",
   "language": "python",
   "name": "python3"
  },
  "language_info": {
   "codemirror_mode": {
    "name": "ipython",
    "version": 3
   },
   "file_extension": ".py",
   "mimetype": "text/x-python",
   "name": "python",
   "nbconvert_exporter": "python",
   "pygments_lexer": "ipython3",
   "version": "3.8.5"
  }
 },
 "nbformat": 4,
 "nbformat_minor": 4
}
