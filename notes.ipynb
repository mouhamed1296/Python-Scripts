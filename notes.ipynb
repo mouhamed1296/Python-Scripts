{
 "cells": [
  {
   "cell_type": "code",
   "execution_count": 3,
   "metadata": {},
   "outputs": [
    {
     "name": "stdout",
     "output_type": "stream",
     "text": [
      "1: Ajouter note\n",
      "2: Calculer moyenne\n",
      "3: Afficher la note minimale\n",
      "4: Afficher la note maximale\n",
      "5: Modifier une note\n",
      "6: quitter\n"
     ]
    },
    {
     "name": "stdin",
     "output_type": "stream",
     "text": [
      "faites votre choix 6\n",
      "Voulez vous vraiement quitter l'application y\n"
     ]
    },
    {
     "name": "stdout",
     "output_type": "stream",
     "text": [
      "Au revoir à la prochaine\n"
     ]
    }
   ],
   "source": [
    "notes = list()\n",
    "nombreNotes = len(notes)\n",
    "\n",
    "def addNote():\n",
    "    libelle = str(input(\"veuillez saisr le libelle de la matiere\"))\n",
    "    note = float(input(\"veuillez saisir la note\"))\n",
    "    coef = int(input(\"veuillez saisir le coeficient\"))\n",
    "    if 0 <= note <= 20:\n",
    "        notes.append([libelle, note, coef])\n",
    "    else:\n",
    "        print(\"la note saisi est incorrecte\")\n",
    "    \n",
    "def modifierNote():\n",
    "    libelle = str(input(\"veuillez saisir le libelle de la matiere dont vous voulez modifier la note\"))\n",
    "    i = 0;\n",
    "    for liste in notes:\n",
    "        if liste[0] == libelle:\n",
    "            note = float(input(\"Veuillez saisir la nouvelle note\"))\n",
    "            liste.insert(1, note)\n",
    "            print(\"Modification effectue avec succes\")\n",
    "            break\n",
    "        i += 1\n",
    "    if i >= nombreNotes:\n",
    "        print(\"Aucune matiere ne correspond a ce libelle\")\n",
    "        \n",
    "def calculMoyenne():\n",
    "    points = 0.0\n",
    "    totalCoef = 0\n",
    "    for liste in notes:\n",
    "        points += liste[1]*liste[2]\n",
    "        totalCoef += liste[2]\n",
    "    moyenne = points/totalCoef\n",
    "    return moyenne\n",
    "\n",
    "def getListeMatiere():\n",
    "    return [liste[0] for liste in notes]\n",
    "\n",
    "def getListeNotes():\n",
    "    return [liste[1] for liste in notes]\n",
    "\n",
    "def getListeCoef():\n",
    "    [liste[2] for liste in notes]\n",
    "\n",
    "def printNoteMin():\n",
    "    if getListeNotes() != []:\n",
    "        print(min(getListeNotes()))\n",
    "    else:\n",
    "        print(\"Aucune note n'a encore été renseigné\")\n",
    "    \n",
    "def printNoteMax():\n",
    "    if getListeNotes() != []:\n",
    "        print(max(getListeNotes()))\n",
    "    else:\n",
    "        print(\"Aucune note n'a encore été renseigné\")\n",
    "\n",
    "def quitter():\n",
    "    print(\"Au revoir à la prochaine\")\n",
    "    exit\n",
    "    \n",
    "def Application():\n",
    "    choix = 0\n",
    "    while choix != 6:\n",
    "        print(\"1: Ajouter note\")\n",
    "        print(\"2: Calculer moyenne\")\n",
    "        print(\"3: Afficher la note minimale\")\n",
    "        print(\"4: Afficher la note maximale\")\n",
    "        print(\"5: Modifier une note\")\n",
    "        print(\"6: quitter\")\n",
    "        choix = int(input(\"faites votre choix\"))\n",
    "        if choix == 1:\n",
    "            addNote()\n",
    "        elif choix == 2:\n",
    "            print(calculMoyenne())\n",
    "        elif choix == 3:\n",
    "            printNoteMin()\n",
    "        elif choix == 4:\n",
    "            printNoteMax()\n",
    "        elif choix == 5:\n",
    "            modifierNote()\n",
    "        elif choix == 6:\n",
    "            response = str(input(\"Voulez vous vraiement quitter l'application\"))\n",
    "            if response == \"y\":\n",
    "                quitter()\n",
    "            else:\n",
    "                choix = 0\n",
    "        else:\n",
    "            print(\"Veuillez choisir un nombre compris entre 1 et 6 inclus\")\n",
    "Application()\n",
    "        \n"
   ]
  },
  {
   "cell_type": "code",
   "execution_count": null,
   "metadata": {},
   "outputs": [],
   "source": []
  }
 ],
 "metadata": {
  "kernelspec": {
   "display_name": "Python 3",
   "language": "python",
   "name": "python3"
  },
  "language_info": {
   "codemirror_mode": {
    "name": "ipython",
    "version": 3
   },
   "file_extension": ".py",
   "mimetype": "text/x-python",
   "name": "python",
   "nbconvert_exporter": "python",
   "pygments_lexer": "ipython3",
   "version": "3.8.5"
  }
 },
 "nbformat": 4,
 "nbformat_minor": 4
}
