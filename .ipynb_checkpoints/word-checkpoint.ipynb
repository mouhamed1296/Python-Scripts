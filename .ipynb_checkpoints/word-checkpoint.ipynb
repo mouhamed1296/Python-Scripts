{
 "cells": [
  {
   "cell_type": "code",
   "execution_count": 8,
   "metadata": {},
   "outputs": [
    {
     "name": "stdout",
     "output_type": "stream",
     "text": [
      "{'Une': 1, 'si': 2, 'longue': 1, 'lettre': 1, 'relate': 1, 'les': 2, 'déboires': 1, 'conjugaux': 1, 'de': 8, 'Ramatoulaye,': 1, 'personnage': 1, 'principal': 1, 'qui': 4, 'en': 11, 'est,': 1, 'à': 6, 'la': 11, 'fois,': 1, 'narratrice': 1, 'et': 7, \"l'héroïne.\": 1, 'Mariée': 1, 'Modou': 1, 'Fall,': 1, 'député': 1, 'bien': 1, 'connu': 1, 'dans': 2, 'son': 3, 'pays': 1, 'elle': 5, 'a': 62, 'donné': 1, '12': 1, 'enfants,': 1, 'Ramatoulaye': 3, 'se': 6, 'voit,': 1, 'un': 6, 'jour,': 1, 'imposer': 1, 'brutalement': 1, 'une': 3, 'lycéenne': 1, 'comme': 2, 'coépouse.': 1, 'Celle-ci': 1, \"l'âge\": 1, 'sa': 3, 'fille': 1, 'aînée': 1, 'Daba,': 1, 'dont': 1, 'est': 4, \"d'ailleurs\": 1, 'copine': 1, 'classe...': 1, \"L'intrusion\": 1, 'cette': 2, 'jeune': 1, 'rivale': 1, 'ménage': 1, 'qui,': 1, 'jusque-là,': 1, 'lui': 2, 'avait': 2, 'procuré': 1, 'toutes': 1, 'joies': 1, 'vie': 1, 'conjugale,': 1, 'véritable': 1, 'déflagration': 1, 'pour': 2, 'Ramatoulaye.': 1, 'Elle': 1, \"n'avait\": 1, 'rien': 1, 'vu': 1, 'venir': 1, 'effondrée.': 1, 'Les': 1, 'interrogations': 1, 'lancinantes': 1, 'torturent': 1, \"l'esprit\": 1, 'illustrent': 1, 'désarroi': 1, ':': 1, 'Partir': 1, '?': 3, 'Recommencer': 1, 'zéro,': 1, 'après': 2, 'avoir': 2, 'vécu': 1, 'vingt-cinq': 1, 'ans': 3, 'avec': 1, 'homme,': 1, 'mis': 1, 'au': 2, 'monde': 1, 'douze': 1, 'enfants': 2, 'Avais-je': 1, 'assez': 1, 'force': 1, 'supporter': 1, 'seule': 1, 'le': 18, 'poids': 1, 'responsabilité': 1, 'fois': 2, 'morale': 1, 'matérielle?.': 1}\n"
     ]
    }
   ],
   "source": [
    "def frequenceMot(text):\n",
    "    print({word: text.count(word) for word in text.split()})\n",
    "frequenceMot(\"Une si longue lettre relate les déboires conjugaux de Ramatoulaye, personnage principal qui en est, à la fois, la narratrice et l'héroïne. Mariée à Modou Fall, député bien connu dans son pays et à qui elle a donné 12 enfants, Ramatoulaye se voit, un jour, imposer brutalement une lycéenne comme coépouse. Celle-ci a l'âge de sa fille aînée Daba, dont elle est d'ailleurs copine de classe... L'intrusion de cette jeune rivale dans un ménage qui, jusque-là, lui avait procuré toutes les joies de la vie conjugale, est une véritable déflagration pour Ramatoulaye. Elle n'avait rien vu venir et elle est effondrée. Les interrogations lancinantes qui lui torturent l'esprit illustrent son désarroi : Partir ? Recommencer à zéro, après avoir vécu vingt-cinq ans avec un homme, après avoir mis au monde douze enfants ? Avais-je assez de force pour supporter seule le poids de cette responsabilité à la fois morale et matérielle?.\")"
   ]
  }
 ],
 "metadata": {
  "kernelspec": {
   "display_name": "Python 3",
   "language": "python",
   "name": "python3"
  },
  "language_info": {
   "codemirror_mode": {
    "name": "ipython",
    "version": 3
   },
   "file_extension": ".py",
   "mimetype": "text/x-python",
   "name": "python",
   "nbconvert_exporter": "python",
   "pygments_lexer": "ipython3",
   "version": "3.8.5"
  }
 },
 "nbformat": 4,
 "nbformat_minor": 4
}
