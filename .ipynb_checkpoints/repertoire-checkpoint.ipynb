{
 "cells": [
  {
   "cell_type": "code",
   "execution_count": 6,
   "metadata": {},
   "outputs": [
    {
     "name": "stdout",
     "output_type": "stream",
     "text": [
      "1: Ajouter un contact\n",
      "2: Supprimer un contact\n",
      "3: Afficher la liste des noms\n",
      "4: Rechercher un contact par son numero et afficher les details\n",
      "5: Quitter\n"
     ]
    },
    {
     "name": "stdin",
     "output_type": "stream",
     "text": [
      "Faites votre choix \n",
      " 5\n",
      "Voulez vous vraiement quitter cette application n\n"
     ]
    },
    {
     "name": "stdout",
     "output_type": "stream",
     "text": [
      "1: Ajouter un contact\n",
      "2: Supprimer un contact\n",
      "3: Afficher la liste des noms\n",
      "4: Rechercher un contact par son numero et afficher les details\n",
      "5: Quitter\n"
     ]
    },
    {
     "name": "stdin",
     "output_type": "stream",
     "text": [
      "Faites votre choix \n",
      " 5\n",
      "Voulez vous vraiement quitter cette application y\n"
     ]
    },
    {
     "name": "stdout",
     "output_type": "stream",
     "text": [
      "Merci d'avoir utiliser cette application\n"
     ]
    }
   ],
   "source": [
    "#declaration de la liste qui doit contenir les infos de chaque numero\n",
    "repertoire = list()\n",
    "\n",
    "#Declaration de la fonction permettant d'ajouter un numero au repertoire\n",
    "def ajouterContact():\n",
    "    nom = str(input(\"Entrer le nom\"))\n",
    "    prenom = str(input(\"Entrer le prenom\"))\n",
    "    numero = int(input(\"Entrer le numero\"))\n",
    "    repertoire.append([nom, prenom, numero])\n",
    "    \n",
    "#Declaration de la fonction permettant de supprimer un numero du repertoire\n",
    "def supprimerContact():\n",
    "    i = 0\n",
    "    nbreContact = len(repertoire)\n",
    "    numero = int(input(\"Entrer le numero que vous voulez supprimer\"))\n",
    "    for liste in repertoire:\n",
    "        if liste[2] == numero and nbreContact > 0:\n",
    "            repertoire.remove(liste)\n",
    "            break\n",
    "        i += 1\n",
    "    if i >= nbreContact:\n",
    "        print(\"Ce contact n'existe pas\")\n",
    "        \n",
    "#Declaration de la fonction permettant d'afficher tous les noms du repertoire\n",
    "def afficherListeNoms():\n",
    "    listeNoms = list()\n",
    "    for liste in repertoire:\n",
    "        listeNoms.append(liste[0])\n",
    "    listeNoms.sort()\n",
    "    for el in listeNoms:\n",
    "        print(el)\n",
    "        \n",
    "#Declaration de la fonction permettant de rechercher et d'afficher les details d'un numero\n",
    "def rechercherContact():\n",
    "    i = 0\n",
    "    nbreContact = len(repertoire)\n",
    "    numero = int(input(\"Entrer le numero que vous voulez rechercher\"))\n",
    "    for liste in repertoire:\n",
    "        if liste[2] == numero and nbreContact > 0:\n",
    "            print(nom)\n",
    "            print(prenom)\n",
    "            print(numero)\n",
    "        i += 1\n",
    "    if i >= nbreContact:\n",
    "        print('Aucun numero trouve')\n",
    "\n",
    "#creation de la fonction permettant de quitter le programme\n",
    "def quitter():\n",
    "    print(\"Merci d'avoir utiliser cette application\")\n",
    "    exit\n",
    "        \n",
    "\n",
    "#Creation du menu permettant d'utiliser les fonctionnalités(ajouter, rechercher, supprimer ...) du répertoire  téléphonique     \n",
    "def Menu():\n",
    "    choix = 0\n",
    "    while choix != 5:\n",
    "        print(\"1: Ajouter un contact\")\n",
    "        print(\"2: Supprimer un contact\")\n",
    "        print(\"3: Afficher la liste des noms\")\n",
    "        print(\"4: Rechercher un contact par son numero et afficher les details\")\n",
    "        print(\"5: Quitter\")\n",
    "        choix = int(input(\"Faites votre choix \\n\"))\n",
    "        if choix == 1:\n",
    "            ajouterContact()\n",
    "        elif choix == 2:\n",
    "            supprimerContact()\n",
    "        elif choix == 3:\n",
    "            afficherListeNoms()\n",
    "        elif choix == 4:\n",
    "            rechercherContact()\n",
    "        elif choix == 5:\n",
    "            reponse = str(input(\"Voulez vous vraiement quitter cette application\"))\n",
    "            if(reponse == \"y\"):\n",
    "                quitter()\n",
    "            elif(reponse == \"n\"):\n",
    "                choix = 0\n",
    "        else:\n",
    "            print(\"Veuillez choisir un element du menu SVP\")\n",
    "            \n",
    "#Appel de la fonction menu pour utiliser les fonctionsnalités.\n",
    "Menu()"
   ]
  },
  {
   "cell_type": "code",
   "execution_count": null,
   "metadata": {},
   "outputs": [],
   "source": []
  }
 ],
 "metadata": {
  "kernelspec": {
   "display_name": "Python 3",
   "language": "python",
   "name": "python3"
  },
  "language_info": {
   "codemirror_mode": {
    "name": "ipython",
    "version": 3
   },
   "file_extension": ".py",
   "mimetype": "text/x-python",
   "name": "python",
   "nbconvert_exporter": "python",
   "pygments_lexer": "ipython3",
   "version": "3.8.5"
  }
 },
 "nbformat": 4,
 "nbformat_minor": 4
}
