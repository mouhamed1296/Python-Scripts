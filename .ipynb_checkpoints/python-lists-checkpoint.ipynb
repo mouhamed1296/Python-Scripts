{
 "cells": [
  {
   "cell_type": "markdown",
   "metadata": {},
   "source": [
    "# Python Niveau Itermédiare"
   ]
  },
  {
   "cell_type": "markdown",
   "metadata": {},
   "source": [
    "# #Lists"
   ]
  },
  {
   "cell_type": "markdown",
   "metadata": {},
   "source": [
    "Une liste est une collection de données ordonnée, mutable(modifiable) et qui accepte les doublons"
   ]
  },
  {
   "cell_type": "markdown",
   "metadata": {},
   "source": [
    "Il existe deux façon de créer une liste:\n",
    "\n",
    "Une liste créer avec des valeurs initiales (une liste initialisé)\n",
    "\n",
    "example:"
   ]
  },
  {
   "cell_type": "code",
   "execution_count": 45,
   "metadata": {},
   "outputs": [
    {
     "name": "stdout",
     "output_type": "stream",
     "text": [
      "[0, 0, 0, 0, 0, 'banana', 'orange', 'pomme']\n",
      "[0, 0, 0, 0, 0]\n",
      "['banana', 'orange', 'pomme']\n"
     ]
    }
   ],
   "source": [
    "liste1 = [\"banana\", \"orange\", \"pomme\"]\n",
    "#permet de créer une liste initialisée avec cinq zéro\n",
    "liste1a = [0]*5\n",
    "#permet de créér une liste initialisée avec la combinaison des listes liste1 et liste1a\n",
    "liste1b = liste1a + liste1\n",
    "\n",
    "print(liste1b)\n",
    "print(liste1a)\n",
    "print(liste1)"
   ]
  },
  {
   "cell_type": "markdown",
   "metadata": {},
   "source": [
    "Une liste créer sans valeur initiales (une liste non initialisé)\n",
    "\n",
    "example:"
   ]
  },
  {
   "cell_type": "code",
   "execution_count": 5,
   "metadata": {},
   "outputs": [
    {
     "name": "stdout",
     "output_type": "stream",
     "text": [
      "[]\n"
     ]
    }
   ],
   "source": [
    "liste2 = list()\n",
    "print(liste2)"
   ]
  },
  {
   "cell_type": "markdown",
   "metadata": {},
   "source": [
    "Une liste peut contenir des éléments dupliqués et aussi des éléments de différents types\n",
    "\n",
    "example:"
   ]
  },
  {
   "cell_type": "code",
   "execution_count": 6,
   "metadata": {},
   "outputs": [
    {
     "name": "stdout",
     "output_type": "stream",
     "text": [
      "[1, True, 'banana', 1, 2.5]\n"
     ]
    }
   ],
   "source": [
    "liste3 = [1, True, \"banana\", 1, 2.5]\n",
    "print(liste3)"
   ]
  },
  {
   "cell_type": "markdown",
   "metadata": {},
   "source": [
    "Pour accéder à un élément d'une liste on écrit : ListName[index]\n",
    "\n",
    "example:"
   ]
  },
  {
   "cell_type": "code",
   "execution_count": 7,
   "metadata": {},
   "outputs": [
    {
     "data": {
      "text/plain": [
       "1"
      ]
     },
     "execution_count": 7,
     "metadata": {},
     "output_type": "execute_result"
    }
   ],
   "source": [
    "liste3[0]"
   ]
  },
  {
   "cell_type": "code",
   "execution_count": 8,
   "metadata": {},
   "outputs": [
    {
     "data": {
      "text/plain": [
       "True"
      ]
     },
     "execution_count": 8,
     "metadata": {},
     "output_type": "execute_result"
    }
   ],
   "source": [
    "liste3[1]"
   ]
  },
  {
   "cell_type": "code",
   "execution_count": 9,
   "metadata": {},
   "outputs": [
    {
     "data": {
      "text/plain": [
       "2.5"
      ]
     },
     "execution_count": 9,
     "metadata": {},
     "output_type": "execute_result"
    }
   ],
   "source": [
    "liste3[4]"
   ]
  },
  {
   "cell_type": "markdown",
   "metadata": {},
   "source": [
    "On peut accéder au élément d'une liste en commençant par le dernier élément (utiliser les index négatives)"
   ]
  },
  {
   "cell_type": "code",
   "execution_count": 10,
   "metadata": {},
   "outputs": [
    {
     "data": {
      "text/plain": [
       "2.5"
      ]
     },
     "execution_count": 10,
     "metadata": {},
     "output_type": "execute_result"
    }
   ],
   "source": [
    "liste3[-1]"
   ]
  },
  {
   "cell_type": "code",
   "execution_count": 11,
   "metadata": {},
   "outputs": [
    {
     "data": {
      "text/plain": [
       "'banana'"
      ]
     },
     "execution_count": 11,
     "metadata": {},
     "output_type": "execute_result"
    }
   ],
   "source": [
    "liste3[-3]"
   ]
  },
  {
   "cell_type": "markdown",
   "metadata": {},
   "source": [
    "Pour itérér a travers les éléments d'une liste: on peut utiliser la boucle for element in list\n",
    "\n",
    "example:"
   ]
  },
  {
   "cell_type": "code",
   "execution_count": 12,
   "metadata": {},
   "outputs": [
    {
     "name": "stdout",
     "output_type": "stream",
     "text": [
      "1\n",
      "True\n",
      "banana\n",
      "1\n",
      "2.5\n"
     ]
    }
   ],
   "source": [
    "for element in liste3:\n",
    "    print(element)"
   ]
  },
  {
   "cell_type": "markdown",
   "metadata": {},
   "source": [
    "Pour vérifier si un élément est dans une liste"
   ]
  },
  {
   "cell_type": "code",
   "execution_count": 14,
   "metadata": {},
   "outputs": [
    {
     "name": "stdout",
     "output_type": "stream",
     "text": [
      "dedans\n"
     ]
    }
   ],
   "source": [
    "if True in liste3:\n",
    "    print(\"dedans\")\n",
    "else:\n",
    "    print(\"pas dedans\")"
   ]
  },
  {
   "cell_type": "code",
   "execution_count": 15,
   "metadata": {},
   "outputs": [
    {
     "name": "stdout",
     "output_type": "stream",
     "text": [
      "pas dedans\n"
     ]
    }
   ],
   "source": [
    "if \"moussa\" in liste3:\n",
    "    print(\"dedans\")\n",
    "else:\n",
    "    print(\"pas dedans\")"
   ]
  },
  {
   "cell_type": "markdown",
   "metadata": {},
   "source": [
    "Pour connaitre le nombre d'éléments d'une liste on utilise la fonction len() "
   ]
  },
  {
   "cell_type": "code",
   "execution_count": 16,
   "metadata": {},
   "outputs": [
    {
     "data": {
      "text/plain": [
       "5"
      ]
     },
     "execution_count": 16,
     "metadata": {},
     "output_type": "execute_result"
    }
   ],
   "source": [
    "len(liste3)"
   ]
  },
  {
   "cell_type": "markdown",
   "metadata": {},
   "source": [
    "pour ajouter des éléments à une liste on utilise la méthode .append(element)\n",
    "Pour supprimer un élément d'une liste  on utilise la méthode .remove(element)\n",
    "Pour insérer un élément à un index bien défini dans une liste on utilise la méthode .insert(index, element)\n",
    "Pour modifier un élément à un index bien défini dans une liste on utilise la méthode .insert(index de l'élément à modifier, nouveau élément)"
   ]
  },
  {
   "cell_type": "markdown",
   "metadata": {},
   "source": [
    "-- Ajout d'element"
   ]
  },
  {
   "cell_type": "code",
   "execution_count": 36,
   "metadata": {},
   "outputs": [
    {
     "name": "stdout",
     "output_type": "stream",
     "text": [
      "[1, True, 'banana', 1, 2.5, 'lemon']\n"
     ]
    }
   ],
   "source": [
    "liste3.append(\"lemon\")\n",
    "print(liste3)\n"
   ]
  },
  {
   "cell_type": "markdown",
   "metadata": {},
   "source": [
    "-- Supression d'élément"
   ]
  },
  {
   "cell_type": "code",
   "execution_count": 37,
   "metadata": {},
   "outputs": [
    {
     "name": "stdout",
     "output_type": "stream",
     "text": [
      "[1, True, 'banana', 1, 2.5]\n"
     ]
    }
   ],
   "source": [
    "liste3.remove(\"lemon\")\n",
    "#il existe aussi d'autres méthodes de supression comme \n",
    "#.pop(): pour supprimer le dernier élément de la liste (cette méthode retourne la valeur supprimé)\n",
    "#.clear(): pour vider la liste de tous ces éléments\n",
    "print(liste3)"
   ]
  },
  {
   "cell_type": "markdown",
   "metadata": {},
   "source": [
    "-- Insertion d'élément"
   ]
  },
  {
   "cell_type": "code",
   "execution_count": 38,
   "metadata": {},
   "outputs": [
    {
     "name": "stdout",
     "output_type": "stream",
     "text": [
      "[1, True, 'banana', 1, 2.5, 'boubou']\n"
     ]
    }
   ],
   "source": [
    "liste3.insert(5, \"boubou\")\n",
    "print(liste3)"
   ]
  },
  {
   "cell_type": "markdown",
   "metadata": {},
   "source": [
    "-- Modification d'element"
   ]
  },
  {
   "cell_type": "code",
   "execution_count": 42,
   "metadata": {},
   "outputs": [
    {
     "name": "stdout",
     "output_type": "stream",
     "text": [
      "[1, True, 'banana', 'boubou', 1, 2.5, 'boubou']\n"
     ]
    }
   ],
   "source": [
    "liste3.insert(3, \"boubou\")\n",
    "print(liste3)"
   ]
  },
  {
   "cell_type": "markdown",
   "metadata": {},
   "source": [
    "On peut créer des sous listes à partir d'une liste (slicing)"
   ]
  },
  {
   "cell_type": "code",
   "execution_count": 62,
   "metadata": {},
   "outputs": [
    {
     "name": "stdout",
     "output_type": "stream",
     "text": [
      "[True, 'banana']\n",
      "[1, 2.5, 'boubou']\n",
      "[1, True]\n",
      "[1, 'banana', 1, 'boubou']\n",
      "[1, 'boubou', 'boubou']\n"
     ]
    }
   ],
   "source": [
    "a = liste3[1:3]\n",
    "print(a)\n",
    "#affiche les trois derniers éléments de la liste\n",
    "print(liste3[-3:])\n",
    "#affiche les trois premiers éléments de la liste\n",
    "print(liste3[:2])\n",
    "#affiche les éléments de la liste d'indice pair\n",
    "print(liste3[::2])"
   ]
  },
  {
   "cell_type": "markdown",
   "metadata": {},
   "source": [
    "Pour copier une liste on utilise la méthode .copy()"
   ]
  },
  {
   "cell_type": "code",
   "execution_count": 69,
   "metadata": {},
   "outputs": [
    {
     "name": "stdout",
     "output_type": "stream",
     "text": [
      "[1, True, 'banana', 'boubou', 1, 2.5, 'boubou', 'lemon']\n",
      "[1, True, 'banana', 'boubou', 1, 2.5, 'boubou']\n"
     ]
    }
   ],
   "source": [
    "b = liste3.copy()\n",
    "b.append(\"lemon\")\n",
    "\n",
    "print(b)\n",
    "print(liste3)"
   ]
  },
  {
   "cell_type": "markdown",
   "metadata": {},
   "source": [
    "Si dans le script ci-dessus nous avions utilisé l'affectation au lieu de la méthode .copy(), la modification de la liste b entrainerais la modification de la liste3.Cela est dû au fait que l'affectation ne crée pas une nouvelle liste pour copier une liste mais à l'instar de cela elle fait pointer les deux listes vers la cellule mémoire contenant la valeur de la liste.\n",
    "\n",
    "example:"
   ]
  },
  {
   "cell_type": "code",
   "execution_count": 87,
   "metadata": {},
   "outputs": [
    {
     "name": "stdout",
     "output_type": "stream",
     "text": [
      "b: \n",
      "[1, True, 'banana', 'boubou', 1, 2.5, 'boubou', 'mafé']\n",
      "liste3: \n",
      "[1, True, 'banana', 'boubou', 1, 2.5, 'boubou', 'mafé']\n"
     ]
    }
   ],
   "source": [
    "b = liste3\n",
    "b.append(\"mafé\")\n",
    "\n",
    "print(\"b: \")\n",
    "print(b)\n",
    "print(\"liste3: \")\n",
    "print(liste3)"
   ]
  },
  {
   "cell_type": "code",
   "execution_count": null,
   "metadata": {},
   "outputs": [],
   "source": []
  }
 ],
 "metadata": {
  "kernelspec": {
   "display_name": "Python 3",
   "language": "python",
   "name": "python3"
  },
  "language_info": {
   "codemirror_mode": {
    "name": "ipython",
    "version": 3
   },
   "file_extension": ".py",
   "mimetype": "text/x-python",
   "name": "python",
   "nbconvert_exporter": "python",
   "pygments_lexer": "ipython3",
   "version": "3.8.5"
  }
 },
 "nbformat": 4,
 "nbformat_minor": 4
}
